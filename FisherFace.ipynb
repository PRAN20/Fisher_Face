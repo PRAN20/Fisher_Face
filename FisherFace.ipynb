{
  "nbformat": 4,
  "nbformat_minor": 0,
  "metadata": {
    "colab": {
      "name": "Untitled0.ipynb",
      "provenance": [],
      "collapsed_sections": [],
      "mount_file_id": "11pQPuaZr8kYHHyn223AdtxpLBMW__Id6",
      "authorship_tag": "ABX9TyPXgC9v2ppK2crGksbgjcWk",
      "include_colab_link": true
    },
    "kernelspec": {
      "name": "python3",
      "display_name": "Python 3"
    },
    "language_info": {
      "name": "python"
    }
  },
  "cells": [
    {
      "cell_type": "markdown",
      "metadata": {
        "id": "view-in-github",
        "colab_type": "text"
      },
      "source": [
        "<a href=\"https://colab.research.google.com/github/PRAN20/Fisher_Face/blob/main/FisherFace.ipynb\" target=\"_parent\"><img src=\"https://colab.research.google.com/assets/colab-badge.svg\" alt=\"Open In Colab\"/></a>"
      ]
    },
    {
      "cell_type": "code",
      "metadata": {
        "id": "yhR6lGPeln_J"
      },
      "source": [
        "import cv2"
      ],
      "execution_count": 4,
      "outputs": []
    },
    {
      "cell_type": "code",
      "metadata": {
        "id": "ShtpBCZ5mDRc"
      },
      "source": [
        "model = cv2.face.LBPHFaceRecognizer_create() \n",
        "#model = cv2.face.EigenFaceRecognizer_create()\n",
        "#model = cv2.face.FisherFaceRecognizer_create()"
      ],
      "execution_count": 6,
      "outputs": []
    },
    {
      "cell_type": "code",
      "metadata": {
        "id": "1K0xjm3onSK3"
      },
      "source": [
        "def detect_face(img_path):\n",
        " img = cv2.imread(img_path)\n",
        " \n",
        " detected_faces = faceCascade.detectMultiScale(img, 1.3, 5)\n",
        " x, y, w, h = detected_faces[0] \n",
        " \n",
        " img = img[y:y+h, x:x+w] \n",
        " img = cv2.resize(img, (90, 90))\n",
        " img = cv2.cvtColor(img, cv2.COLOR_BGR2GRAY)\n",
        " \n",
        " return img"
      ],
      "execution_count": 2,
      "outputs": []
    },
    {
      "cell_type": "code",
      "metadata": {
        "id": "rKx5NGBmpzsT"
      },
      "source": [
        "face_db = [\n",
        " \n",
        "]"
      ],
      "execution_count": 3,
      "outputs": []
    },
    {
      "cell_type": "code",
      "metadata": {
        "id": "WsNkeEg_0NO3"
      },
      "source": [
        "faces = []\n",
        "for img_path in face_db:\n",
        " print(img_path)\n",
        " img = detect_face(img_path)\n",
        " faces.append(img)\n",
        " \n",
        "ids = np.array([i for i in range(0, len(faces))])"
      ],
      "execution_count": null,
      "outputs": []
    },
    {
      "cell_type": "code",
      "metadata": {
        "id": "h0OLqlqk0bCs"
      },
      "source": [
        ""
      ],
      "execution_count": null,
      "outputs": []
    }
  ]
}